{
 "cells": [
  {
   "cell_type": "code",
   "execution_count": 5,
   "id": "915e1e6e",
   "metadata": {},
   "outputs": [
    {
     "name": "stdout",
     "output_type": "stream",
     "text": [
      "✅ Split complete! Data is ready in 'dataset/train' and 'dataset/test'\n"
     ]
    }
   ],
   "source": [
    "import os\n",
    "import shutil\n",
    "from sklearn.model_selection import train_test_split\n",
    "\n",
    "# Step 1: Source folders (where full images are)\n",
    "cat_folder = \"dataset/Cat\"\n",
    "dog_folder = \"dataset/Dog\"\n",
    "\n",
    "# Step 2: Target base directory for split data\n",
    "base_dir = \"dataset\"\n",
    "\n",
    "# Step 3: Create train/val folders\n",
    "for split in ['train', 'test']:\n",
    "    for label in ['Cat', 'Dog']:\n",
    "        os.makedirs(os.path.join(base_dir, split, label), exist_ok=True)\n",
    "\n",
    "# Step 4: List images\n",
    "cat_images = os.listdir(cat_folder)\n",
    "dog_images = os.listdir(dog_folder)\n",
    "\n",
    "# Step 5: Split 80/20\n",
    "train_cats, test_cats = train_test_split(cat_images, test_size=0.2, random_state=42)\n",
    "train_dogs, test_dogs = train_test_split(dog_images, test_size=0.2, random_state=42)\n",
    "\n",
    "# Step 6: Copy images\n",
    "def copy_images(images, src_folder, dst_folder):\n",
    "    for img in images:\n",
    "        src = os.path.join(src_folder, img)\n",
    "        dst = os.path.join(dst_folder, img)\n",
    "        shutil.copy(src, dst)\n",
    "\n",
    "# Copy all splits\n",
    "copy_images(train_cats, cat_folder, os.path.join(base_dir, 'train', 'Cat'))\n",
    "copy_images(test_cats, cat_folder, os.path.join(base_dir, 'test', 'Cat'))\n",
    "copy_images(train_dogs, dog_folder, os.path.join(base_dir, 'train', 'Dog'))\n",
    "copy_images(test_dogs, dog_folder, os.path.join(base_dir, 'test', 'Dog'))\n",
    "\n",
    "print(\"✅ Split complete! Data is ready in 'dataset/train' and 'dataset/test'\")\n"
   ]
  },
  {
   "cell_type": "code",
   "execution_count": 6,
   "id": "3410e52e",
   "metadata": {},
   "outputs": [
    {
     "name": "stdout",
     "output_type": "stream",
     "text": [
      "Train Cat: 10000\n",
      "Train Dog: 9999\n",
      "test Cat: 2501\n",
      "test Dog: 2500\n"
     ]
    }
   ],
   "source": [
    "print(\"Train Cat:\", len(os.listdir('dataset/train/Cat')))\n",
    "print(\"Train Dog:\", len(os.listdir('dataset/train/Dog')))\n",
    "print(\"test Cat:\", len(os.listdir('dataset/test/Cat')))\n",
    "print(\"test Dog:\", len(os.listdir('dataset/test/Dog')))\n"
   ]
  }
 ],
 "metadata": {
  "kernelspec": {
   "display_name": "dlenv",
   "language": "python",
   "name": "python3"
  },
  "language_info": {
   "codemirror_mode": {
    "name": "ipython",
    "version": 3
   },
   "file_extension": ".py",
   "mimetype": "text/x-python",
   "name": "python",
   "nbconvert_exporter": "python",
   "pygments_lexer": "ipython3",
   "version": "3.9.13"
  }
 },
 "nbformat": 4,
 "nbformat_minor": 5
}
